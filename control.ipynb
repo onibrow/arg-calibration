{
 "cells": [
  {
   "cell_type": "markdown",
   "metadata": {},
   "source": [
    "# Force Calibration Control Rig\n",
    "## Arias Research Group\n",
    "#### Seiya Ono"
   ]
  },
  {
   "cell_type": "code",
   "execution_count": 1,
   "metadata": {},
   "outputs": [],
   "source": [
    "from ipywidgets import widgets, Layout, Button, Box, VBox\n",
    "import subprocess, sys, serial, glob\n",
    "# sudo pip install ipywidgets"
   ]
  },
  {
   "cell_type": "code",
   "execution_count": 2,
   "metadata": {},
   "outputs": [],
   "source": [
    "# Helper Functions\n",
    "def get_portlist():\n",
    "    if sys.platform.startswith('win'):\n",
    "        ports = ['COM' + str(i + 1) for i in range(256)]\n",
    "\n",
    "    elif sys.platform.startswith('linux') or sys.platform.startswith('cygwin'):\n",
    "        # this is to exclude your current terminal \"/dev/tty\"\n",
    "        ports = glob.glob('/dev/tty[A-Za-z]*')\n",
    "\n",
    "    elif sys.platform.startswith('darwin'):\n",
    "        ports = glob.glob('/dev/tty.*')\n",
    "\n",
    "    else:\n",
    "        raise EnvironmentError('Unsupported platform')\n",
    "\n",
    "    result = []\n",
    "    for port in ports:\n",
    "        try:\n",
    "            s = serial.Serial(port)\n",
    "            s.close()\n",
    "            result.append(port)\n",
    "        except (OSError, serial.SerialException):\n",
    "            pass\n",
    "    if len(result) < 1:\n",
    "        print(\"No serial ports found. Reconnect and try again\")\n",
    "    return result\n",
    "\n",
    "def select_port():\n",
    "    portlist = get_portlist()\n",
    "\n",
    "    # list the ports seen on the machine\n",
    "    print(\"You have the following ports:\")\n",
    "    counter = 1\n",
    "    for p in portlist:\n",
    "        print(\"%i - %s\"%(counter,p))\n",
    "        counter = counter + 1\n",
    "\n",
    "    # let the user choose the correct port\n",
    "    index = int(input(\"Select the index of the port corresponding to the Arduino: \\n\"))\n",
    "    while index > len(portlist):\n",
    "        print(\"Please select the correct index\")\n",
    "        index = int(input(\"Select the index of the port corresponding to the Arduino: \\n\"))\n",
    "\n",
    "    # connect to the port\n",
    "    return portlist[index-1]\n",
    "\n",
    "def serial_write(ser, data):\n",
    "    if sys.platform.startswith('win'):\n",
    "        ser.write([data ,])\n",
    "    else:\n",
    "        ser.write(data)"
   ]
  },
  {
   "cell_type": "markdown",
   "metadata": {},
   "source": [
    "**Run this code block to connect with the serial port of the arduino:**"
   ]
  },
  {
   "cell_type": "code",
   "execution_count": 3,
   "metadata": {},
   "outputs": [
    {
     "name": "stdout",
     "output_type": "stream",
     "text": [
      "You have the following ports:\n",
      "1 - /dev/ttyACM0\n",
      "Select the index of the port corresponding to the Arduino: \n",
      "1\n"
     ]
    }
   ],
   "source": [
    "BAUD = 9600\n",
    "arduino = serial.Serial(select_port(), BAUD)"
   ]
  },
  {
   "cell_type": "code",
   "execution_count": 4,
   "metadata": {},
   "outputs": [],
   "source": [
    "# Buttons\n",
    "left_bigskip_button  = Button(description='<<<', layout=Layout(flex='1 1 auto', width='auto'))\n",
    "left_skip_button     = Button(description='<<', layout=Layout(flex='1 1 auto', width='auto'))\n",
    "left_button          = Button(description='<', layout=Layout(flex='1 1 auto', width='auto'))\n",
    "right_button         = Button(description='>', layout=Layout(flex='1 1 auto', width='auto'))\n",
    "right_skip_button    = Button(description='>>', layout=Layout(flex='1 1 auto', width='auto'))\n",
    "right_bigskip_button = Button(description='>>>', layout=Layout(flex='1 1 auto', width='auto'))\n",
    "\n",
    "BASE_TICKS = 10\n",
    "print_enable = True\n",
    "\n",
    "def left_bigskip(b):\n",
    "    if print_enable:\n",
    "        print(\"Moving stage \", 10 * BASE_TICKS, \" to the left\")\n",
    "    serial_write(arduino, b'a')\n",
    "left_bigskip_button.on_click(left_bigskip)\n",
    "\n",
    "def left_skip(b):\n",
    "    if print_enable:\n",
    "        print(\"Moving stage \", 5 * BASE_TICKS, \" to the left\")\n",
    "    serial_write(arduino, b's')\n",
    "left_skip_button.on_click(left_skip)\n",
    "    \n",
    "def left(b):\n",
    "    if print_enable:\n",
    "        print(\"Moving stage \", BASE_TICKS, \" to the left\")\n",
    "    serial_write(arduino, b'd')\n",
    "left_button.on_click(left)\n",
    "    \n",
    "def right(b):\n",
    "    if print_enable:\n",
    "        print(\"Moving stage \", BASE_TICKS, \" to the right\")\n",
    "    serial_write(arduino, b'j')\n",
    "right_button.on_click(right)\n",
    "    \n",
    "def right_skip(b):\n",
    "    if print_enable:\n",
    "        print(\"Moving stage \", 5 * BASE_TICKS, \" to the right\")\n",
    "    serial_write(arduino, b'k')\n",
    "right_skip_button.on_click(right_skip)\n",
    "    \n",
    "def right_bigskip(b):\n",
    "    if print_enable:\n",
    "        print(\"Moving stage \", 10 * BASE_TICKS, \" to the right\")\n",
    "    serial_write(arduino, b'l')\n",
    "right_bigskip_button.on_click(right_bigskip)\n",
    "\n",
    "move = [left_bigskip_button, left_skip_button, left_button, \n",
    "        right_button, right_skip_button, right_bigskip_button]\n",
    "\n",
    "box_layout = Layout(display='flex', flex_flow='row', align_items='stretch', width='100%')\n",
    "box = Box(children=move, layout=box_layout)"
   ]
  },
  {
   "cell_type": "code",
   "execution_count": 5,
   "metadata": {},
   "outputs": [
    {
     "data": {
      "application/vnd.jupyter.widget-view+json": {
       "model_id": "0185f1b759f74c728f6a78d9760f4ab2",
       "version_major": 2,
       "version_minor": 0
      },
      "text/plain": [
       "Box(children=(Button(description='<<<', layout=Layout(flex='1 1 auto', width='auto'), style=ButtonStyle()), Bu…"
      ]
     },
     "metadata": {},
     "output_type": "display_data"
    }
   ],
   "source": [
    "# Start the UI\n",
    "print_enable = False\n",
    "display(box)"
   ]
  },
  {
   "cell_type": "markdown",
   "metadata": {},
   "source": [
    "## Use the buttons to move the stage around"
   ]
  },
  {
   "cell_type": "markdown",
   "metadata": {},
   "source": [
    "x axis calibration that has 0 - MAX_TICKS\n",
    "\n",
    "want to control x axis\n",
    "\n",
    "speed control - type in speed\n",
    "\n",
    "maybe two point system to go back and forth between and set speed\n",
    "\n",
    "things I need:\n",
    "\n",
    "linear rotation, motor stepper angle, gear ratio"
   ]
  },
  {
   "cell_type": "code",
   "execution_count": null,
   "metadata": {},
   "outputs": [],
   "source": []
  }
 ],
 "metadata": {
  "kernelspec": {
   "display_name": "Python 3",
   "language": "python",
   "name": "python3"
  },
  "language_info": {
   "codemirror_mode": {
    "name": "ipython",
    "version": 3
   },
   "file_extension": ".py",
   "mimetype": "text/x-python",
   "name": "python",
   "nbconvert_exporter": "python",
   "pygments_lexer": "ipython3",
   "version": "3.6.5"
  }
 },
 "nbformat": 4,
 "nbformat_minor": 2
}
